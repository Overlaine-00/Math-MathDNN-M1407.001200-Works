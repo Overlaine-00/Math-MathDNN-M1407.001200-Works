{
 "cells": [
  {
   "cell_type": "markdown",
   "metadata": {},
   "source": [
    "# Problem 1"
   ]
  },
  {
   "cell_type": "markdown",
   "metadata": {},
   "source": [
    "Import necessary modules, parameters and data."
   ]
  },
  {
   "cell_type": "code",
   "execution_count": 40,
   "metadata": {},
   "outputs": [],
   "source": [
    "import torch\n",
    "import numpy as np\n",
    "from torch import nn, optim\n",
    "from torch.nn import functional as F\n",
    "from torch.utils.data import TensorDataset, DataLoader\n",
    "import matplotlib.pyplot as plt\n",
    "from sklearn.model_selection import train_test_split"
   ]
  },
  {
   "cell_type": "code",
   "execution_count": 41,
   "metadata": {},
   "outputs": [],
   "source": [
    "alpha = 0.1\n",
    "K = 1000\n",
    "B = 128\n",
    "N = 512\n",
    "\n",
    "def f_true(x) :\n",
    "    return (x-2) * np.cos(x*4)"
   ]
  },
  {
   "cell_type": "code",
   "execution_count": 42,
   "metadata": {},
   "outputs": [],
   "source": [
    "torch.manual_seed(0)\n",
    "X_train = torch.normal(0.0, 1.0, (N,))\n",
    "y_train = f_true(X_train)\n",
    "X_val = torch.normal(0.0, 1.0, (N//5,))\n",
    "y_val = f_true(X_val)\n",
    "\n",
    "train_dataloader = DataLoader(TensorDataset(X_train.unsqueeze(1), y_train.unsqueeze(1),), batch_size=B)\n",
    "test_dataloader = DataLoader(TensorDataset(X_val.unsqueeze(1), y_val.unsqueeze(1)), batch_size=B)"
   ]
  },
  {
   "cell_type": "markdown",
   "metadata": {},
   "source": [
    "As in example code, we use 3-layer FC neural network with sigmoid activation.\n",
    "Note that, since our result has no restriction (that is, result can becomes any real number), there is no activation sigmoid after layer 3."
   ]
  },
  {
   "cell_type": "code",
   "execution_count": 43,
   "metadata": {},
   "outputs": [],
   "source": [
    "class MLP(nn.Module):\n",
    "    def __init__(self):\n",
    "        super().__init__()\n",
    "        self.layer1 = nn.Linear(1,64)\n",
    "        self.layer2 = nn.Linear(64,64)\n",
    "        self.layer3 = nn.Linear(64,1)\n",
    "        \n",
    "        for layer in [self.layer1, self.layer2, self.layer3]:\n",
    "            layer.weight.data = torch.normal(0,1,size=layer.weight.shape)\n",
    "            layer.bias.data = torch.full(layer.bias.shape, 0.03)\n",
    "            \n",
    "    def forward(self, x):\n",
    "        out = torch.sigmoid(self.layer1(x))\n",
    "        out = torch.sigmoid(self.layer2(out))\n",
    "        out = self.layer3(out)\n",
    "        return out\n",
    "\n",
    "mlp = MLP()\n",
    "loss_fn = nn.MSELoss()\n",
    "optimizer = optim.SGD(params=mlp.parameters(), lr=alpha)"
   ]
  },
  {
   "cell_type": "markdown",
   "metadata": {},
   "source": [
    "Now we repeat learning process K times, and each learning process constitutes of propagation-backpropagation of all batch.\n",
    "Thus we iterate propagation-backpropagation step K*(N/B) = 1000*(512/128) = 4000 times."
   ]
  },
  {
   "cell_type": "code",
   "execution_count": 44,
   "metadata": {},
   "outputs": [],
   "source": [
    "block_num = N//B\n",
    "\n",
    "for ep in range(K):\n",
    "    for x,y in train_dataloader:\n",
    "        y_batch = mlp(x)\n",
    "        loss = loss_fn(y_batch, y)/2\n",
    "        \n",
    "        optimizer.zero_grad()\n",
    "        loss.backward()\n",
    "        optimizer.step()"
   ]
  },
  {
   "cell_type": "markdown",
   "metadata": {},
   "source": [
    "To check whether our layer learns well, we draw a plot and compare to the true function. The result is following."
   ]
  },
  {
   "cell_type": "code",
   "execution_count": 45,
   "metadata": {},
   "outputs": [
    {
     "data": {
      "image/png": "[encoded data removed]",
      "text/plain": [
       "<Figure size 432x288 with 1 Axes>"
      ]
     },
     "metadata": {
      "needs_background": "light"
     },
     "output_type": "display_data"
    }
   ],
   "source": [
    "with torch.no_grad():\n",
    "    xx = torch.linspace(-2,2,1024).unsqueeze(1)\n",
    "    plt.plot(X_train, y_train, 'rx',label='Data points')\n",
    "    plt.plot(xx, f_true(xx), 'r',label='True Fn')\n",
    "    plt.plot(xx, mlp(xx), label='Learned Fn')\n",
    "plt.legend()\n",
    "plt.show()"
   ]
  },
  {
   "cell_type": "markdown",
   "metadata": {},
   "source": [
    "As you can see, our network works well."
   ]
  }
 ],
 "metadata": {
  "kernelspec": {
   "display_name": "Python 3.9.12 ('RL')",
   "language": "python",
   "name": "python3"
  },
  "language_info": {
   "codemirror_mode": {
    "name": "ipython",
    "version": 3
   },
   "file_extension": ".py",
   "mimetype": "text/x-python",
   "name": "python",
   "nbconvert_exporter": "python",
   "pygments_lexer": "ipython3",
   "version": "3.9.12"
  },
  "orig_nbformat": 4,
  "vscode": {
   "interpreter": {
    "hash": "b317da953ad838286c0c6ab0dfc4969c0da5f5eb296aba9f813b609fe07b4eeb"
   }
  }
 },
 "nbformat": 4,
 "nbformat_minor": 2
}
