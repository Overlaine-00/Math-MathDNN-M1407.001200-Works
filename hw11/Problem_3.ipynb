{
 "cells": [
  {
   "cell_type": "markdown",
   "metadata": {},
   "source": [
    "## Problem 3"
   ]
  },
  {
   "cell_type": "code",
   "execution_count": 1,
   "metadata": {},
   "outputs": [],
   "source": [
    "import torch\n",
    "import torch.nn as nn\n",
    "import torch.nn.functional as F\n",
    "from torch.utils.data import DataLoader\n",
    "from torchvision import datasets\n",
    "from torchvision.transforms import transforms\n",
    "\n",
    "device = torch.device(\"cuda\" if torch.cuda.is_available() else \"cpu\")\n",
    "batch_size = 128"
   ]
  },
  {
   "cell_type": "code",
   "execution_count": 2,
   "metadata": {},
   "outputs": [],
   "source": [
    "test_val_dataset = datasets.MNIST(root='./mnist_data/',\n",
    "                train=False, \n",
    "                transform=transforms.ToTensor(),\n",
    "                download=True)\n",
    "\n",
    "test_dataset, validation_dataset = \\\n",
    "    torch.utils.data.random_split(test_val_dataset, [5000, 5000])\n",
    "\n",
    "# KMNIST dataset, only need test dataset\n",
    "anomaly_dataset = datasets.KMNIST(root='./kmnist_data/',\n",
    "                train=False, \n",
    "                transform=transforms.ToTensor(),\n",
    "                download=True)"
   ]
  },
  {
   "cell_type": "code",
   "execution_count": 3,
   "metadata": {},
   "outputs": [],
   "source": [
    "# Define prior distribution\n",
    "class Logistic(torch.distributions.Distribution):\n",
    "  def __init__(self):\n",
    "    super(Logistic, self).__init__()\n",
    "\n",
    "  def log_prob(self, x):\n",
    "    return -(F.softplus(x) + F.softplus(-x))\n",
    "\n",
    "  def sample(self, size):\n",
    "    z = torch.distributions.Uniform(0., 1.).sample(size).to(device)\n",
    "    return torch.log(z) - torch.log(1. - z)\n",
    "\n",
    "# Implement coupling layer\n",
    "class Coupling(nn.Module):\n",
    "  def __init__(self, in_out_dim, mid_dim, hidden, mask_config):\n",
    "    super(Coupling, self).__init__()\n",
    "    self.mask_config = mask_config\n",
    "    \n",
    "    self.in_block = \\\n",
    "        nn.Sequential(nn.Linear(in_out_dim//2, mid_dim), nn.ReLU())\n",
    "    self.mid_block = nn.ModuleList(\n",
    "        [nn.Sequential(nn.Linear(mid_dim, mid_dim), nn.ReLU()) \n",
    "          for _ in range(hidden - 1)])\n",
    "    self.out_block = nn.Linear(mid_dim, in_out_dim//2)\n",
    "\n",
    "  def forward(self, x, reverse=False):\n",
    "    [B, W] = list(x.size())\n",
    "    x = x.reshape((B, W//2, 2))\n",
    "    if self.mask_config:\n",
    "      on, off = x[:, :, 0], x[:, :, 1]\n",
    "    else:\n",
    "      off, on = x[:, :, 0], x[:, :, 1]\n",
    "\n",
    "    off_ = self.in_block(off)\n",
    "    for i in range(len(self.mid_block)):\n",
    "      off_ = self.mid_block[i](off_)\n",
    "    shift = self.out_block(off_)\n",
    "    \n",
    "    if reverse:\n",
    "      on = on - shift\n",
    "    else:\n",
    "      on = on + shift\n",
    "\n",
    "    if self.mask_config:\n",
    "      x = torch.stack((on, off), dim=2)\n",
    "    else:\n",
    "      x = torch.stack((off, on), dim=2)\n",
    "    return x.reshape((B, W))\n",
    "\n",
    "class Scaling(nn.Module):\n",
    "  def __init__(self, dim):\n",
    "    super(Scaling, self).__init__()\n",
    "    self.scale = nn.Parameter(torch.zeros((1, dim)))\n",
    "\n",
    "  def forward(self, x, reverse=False):\n",
    "    log_det_J = torch.sum(self.scale)\n",
    "    if reverse:\n",
    "      x = x * torch.exp(-self.scale)\n",
    "    else:\n",
    "      x = x * torch.exp(self.scale)\n",
    "    return x, log_det_J\n",
    "\n",
    "class NICE(nn.Module):\n",
    "  def __init__(self,in_out_dim, mid_dim, hidden,\n",
    "        mask_config=1.0, coupling=4):\n",
    "    super(NICE, self).__init__()\n",
    "    self.prior = Logistic()\n",
    "    self.in_out_dim = in_out_dim\n",
    "\n",
    "    self.coupling = nn.ModuleList([\n",
    "      Coupling(in_out_dim=in_out_dim, \n",
    "           mid_dim=mid_dim, \n",
    "           hidden=hidden, \n",
    "           mask_config=(mask_config+i)%2) \\\n",
    "      for i in range(coupling)])\n",
    "    \n",
    "    self.scaling = Scaling(in_out_dim)\n",
    "\n",
    "  def g(self, z):\n",
    "    x, _ = self.scaling(z, reverse=True)\n",
    "    for i in reversed(range(len(self.coupling))):\n",
    "      x = self.coupling[i](x, reverse=True)\n",
    "    return x\n",
    "\n",
    "  def f(self, x):\n",
    "    for i in range(len(self.coupling)):\n",
    "      x = self.coupling[i](x)\n",
    "    z, log_det_J = self.scaling(x)\n",
    "    return z, log_det_J\n",
    "\n",
    "  def log_prob(self, x):\n",
    "    z, log_det_J = self.f(x)\n",
    "    log_ll = torch.sum(self.prior.log_prob(z), dim=1)\n",
    "    return log_ll + log_det_J\n",
    "\n",
    "  def sample(self, size):\n",
    "    z = self.prior.sample((size, self.in_out_dim)).to(device)\n",
    "    return self.g(z)\n",
    "\n",
    "  def forward(self, x):\n",
    "    return self.log_prob(x)"
   ]
  },
  {
   "cell_type": "code",
   "execution_count": null,
   "metadata": {},
   "outputs": [],
   "source": [
    "nice = NICE(in_out_dim=784, mid_dim=1000, hidden=5).to(device)\n",
    "nice.load_state_dict(torch.load('nice.pt', map_location=device))"
   ]
  },
  {
   "cell_type": "markdown",
   "metadata": {},
   "source": [
    "#### Step 4.\n",
    "\n",
    "Use validation data to get mean, standard deviation, and threshold."
   ]
  },
  {
   "cell_type": "code",
   "execution_count": 5,
   "metadata": {},
   "outputs": [
    {
     "name": "stdout",
     "output_type": "stream",
     "text": [
      "mean : 2255.0303, std : 938.3728, threshold : -560.0881\n"
     ]
    }
   ],
   "source": [
    "validation_loader = torch.utils.data.DataLoader(validation_dataset, batch_size=batch_size, shuffle=True)\n",
    "\n",
    "nice.eval()\n",
    "likelihood = []\n",
    "for batch, (data, _) in enumerate(validation_loader):\n",
    "    data = data.to(device).view(-1, 784)\n",
    "    l = nice(data)\n",
    "    likelihood.append(l)\n",
    "\n",
    "likelihood = torch.cat(likelihood)\n",
    "\n",
    "mean = likelihood.mean()\n",
    "std = likelihood.std()\n",
    "\n",
    "threshold = mean - 3*std\n",
    "print(f\"mean : {mean:.4f}, std : {std:.4f}, threshold : {threshold:.4f}\")"
   ]
  },
  {
   "cell_type": "markdown",
   "metadata": {},
   "source": [
    "#### Step 5.\n",
    "\n",
    "Get type 1 error, by the same way as step 4."
   ]
  },
  {
   "cell_type": "code",
   "execution_count": 6,
   "metadata": {},
   "outputs": [
    {
     "name": "stdout",
     "output_type": "stream",
     "text": [
      "91 anomaly detected among 5000 data. \n",
      "Type 1 error : 0.018\n"
     ]
    }
   ],
   "source": [
    "test_loader = torch.utils.data.DataLoader(test_dataset, batch_size=batch_size)\n",
    "\n",
    "total = 0\n",
    "anomalies = 0\n",
    "for batch, (data,_) in enumerate(test_loader):\n",
    "    data = data.to(device).view(-1, 784)\n",
    "    l = nice(data)\n",
    "    detected = torch.where(l < threshold, 1, 0)\n",
    "    \n",
    "    total += data.size()[0]\n",
    "    anomalies += torch.sum(detected).item()\n",
    "\n",
    "print(f\"{anomalies} anomaly detected among {total} data. \\nType 1 error : {(anomalies/total):.3f}\")"
   ]
  },
  {
   "cell_type": "markdown",
   "metadata": {},
   "source": [
    "#### Step 6.\n",
    "\n",
    "Repeat step 5 with KMNIST data to get type 2 error."
   ]
  },
  {
   "cell_type": "code",
   "execution_count": 8,
   "metadata": {},
   "outputs": [
    {
     "name": "stdout",
     "output_type": "stream",
     "text": [
      "15 anomaly detected among 10000 data. \n",
      "Type 2 error : 0.002\n"
     ]
    }
   ],
   "source": [
    "k_test_loader = torch.utils.data.DataLoader(anomaly_dataset, batch_size=batch_size)\n",
    "\n",
    "total = 0\n",
    "anomalies = 0\n",
    "for batch, (data,_) in enumerate(k_test_loader):\n",
    "    data = data.to(device).view(-1, 784)\n",
    "    l = nice(data)\n",
    "    detected = torch.where(l > threshold, 1, 0)\n",
    "    \n",
    "    total += data.size()[0]\n",
    "    anomalies += torch.sum(detected).item()\n",
    "\n",
    "print(f\"{anomalies} anomaly detected among {total} data. \\nType 2 error : {(anomalies/total):.3f}\")"
   ]
  }
 ],
 "metadata": {
  "kernelspec": {
   "display_name": "Python 3.9.12 ('RL')",
   "language": "python",
   "name": "python3"
  },
  "language_info": {
   "codemirror_mode": {
    "name": "ipython",
    "version": 3
   },
   "file_extension": ".py",
   "mimetype": "text/x-python",
   "name": "python",
   "nbconvert_exporter": "python",
   "pygments_lexer": "ipython3",
   "version": "3.9.12"
  },
  "orig_nbformat": 4,
  "vscode": {
   "interpreter": {
    "hash": "b317da953ad838286c0c6ab0dfc4969c0da5f5eb296aba9f813b609fe07b4eeb"
   }
  }
 },
 "nbformat": 4,
 "nbformat_minor": 2
}
