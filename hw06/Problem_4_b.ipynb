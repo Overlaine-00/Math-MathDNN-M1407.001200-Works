{
 "cells": [
  {
   "cell_type": "markdown",
   "metadata": {},
   "source": [
    "# Problem 4\n",
    "\n",
    "(b)"
   ]
  },
  {
   "cell_type": "code",
   "execution_count": null,
   "metadata": {},
   "outputs": [],
   "source": [
    "import torch\n",
    "from torch import nn\n",
    "\n",
    "\n",
    "class STMConvLayer(nn.Module):\n",
    "    def __init__(self):\n",
    "        super(STMConvLayer, self).__init__()\n",
    "        self.layer_module = nn.ModuleList([self.splitted_layer() for _ in range(32)])\n",
    "    \n",
    "    def splitted_layer() -> nn.Sequential:\n",
    "        layer1 = nn.Conv2d(256, 4, 1)\n",
    "        layer2 = nn.Conv2d(4, 4, 3, padding=1)\n",
    "        layer3 = nn.Conv2d(4, 256, 1)\n",
    "        \n",
    "        return nn.Sequential(layer1, nn.ReLU, layer2, nn.ReLU, layer3, nn.ReLU)\n",
    "\n",
    "    def forward(self, x):\n",
    "        outs = [each_module(x) for each_module in self.layer_module]\n",
    "        return sum(outs)    # torch.sum(torch.cat(outs), dim=0)"
   ]
  }
 ],
 "metadata": {
  "kernelspec": {
   "display_name": "Python 3.9.12 ('RL')",
   "language": "python",
   "name": "python3"
  },
  "language_info": {
   "name": "python",
   "version": "3.9.12"
  },
  "orig_nbformat": 4,
  "vscode": {
   "interpreter": {
    "hash": "b317da953ad838286c0c6ab0dfc4969c0da5f5eb296aba9f813b609fe07b4eeb"
   }
  }
 },
 "nbformat": 4,
 "nbformat_minor": 2
}
