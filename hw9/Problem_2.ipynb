{
 "cells": [
  {
   "cell_type": "markdown",
   "metadata": {},
   "source": [
    "# Problem 2\n",
    "\n",
    "I refer Chapter 5 codes, sourced from our main teaching site http://www.math.snu.ac.kr/~ernestryu/courses/deep_learning.html.  \n",
    "Import necessary modules and parameters.  \n",
    "Here we use target distribution as standard normal distribution $\\mathcal{N}(0,1)$, instead of uniform. We must modify it."
   ]
  },
  {
   "cell_type": "code",
   "execution_count": 1,
   "metadata": {},
   "outputs": [],
   "source": [
    "import torch\n",
    "import torch.utils.data as data \n",
    "import torch.nn as nn\n",
    "from torch.distributions.normal import Normal \n",
    "from torch.distributions.uniform import Uniform\n",
    "import numpy as np\n",
    "import matplotlib.pyplot as plt\n",
    "\n",
    "\n",
    "epochs = 50\n",
    "learning_rate = 5e-3\n",
    "batch_size = 128\n",
    "n_components = 5 # the number of kernel\n",
    "target_distribution = Normal(0.0, 1.0)"
   ]
  },
  {
   "cell_type": "markdown",
   "metadata": {},
   "source": [
    "Also, $f_\\theta$ is different from source. Expressions of $f_\\theta$, $f_\\theta$' in forward step is modified."
   ]
  },
  {
   "cell_type": "code",
   "execution_count": 2,
   "metadata": {},
   "outputs": [],
   "source": [
    "class Flow1d(nn.Module):\n",
    "    def __init__(self, n_components):\n",
    "        super(Flow1d, self).__init__()\n",
    "        self.mus = nn.Parameter(torch.randn(n_components), requires_grad=True)\n",
    "        self.log_sigmas = nn.Parameter(torch.zeros(n_components), requires_grad=True)\n",
    "        self.weight_logs = nn.Parameter(torch.ones(n_components), requires_grad=True)\n",
    "\n",
    "    def forward(self, x):\n",
    "        x = x.view(-1,1)\n",
    "        weights = self.weight_logs.view(1,-1).exp()\n",
    "        distribution = Normal(self.mus, self.log_sigmas.exp())\n",
    "        z = ((distribution.cdf(x)-0.5) * weights).sum(dim=1)\n",
    "        dz_by_dx = (distribution.log_prob(x).exp() * weights).sum(dim=1)\n",
    "        return z, dz_by_dx"
   ]
  },
  {
   "cell_type": "markdown",
   "metadata": {},
   "source": [
    "We use same dataset and datasets, and loss function defined by log-likelihood."
   ]
  },
  {
   "cell_type": "code",
   "execution_count": 3,
   "metadata": {},
   "outputs": [],
   "source": [
    "def mixture_of_gaussians(num, mu_var=(-1,0.25, 0.2,0.25, 1.5,0.25)):\n",
    "    n = num // 3\n",
    "    m1,s1,m2,s2,m3,s3 = mu_var\n",
    "    gaussian1 = np.random.normal(loc=m1, scale=s1, size=(n,))\n",
    "    gaussian2 = np.random.normal(loc=m2, scale=s2, size=(n,))\n",
    "    gaussian3 = np.random.normal(loc=m3, scale=s3, size=(num-n,))\n",
    "    return np.concatenate([gaussian1, gaussian2, gaussian3])\n",
    "\n",
    "\n",
    "\n",
    "class MyDataset(data.Dataset):\n",
    "    def __init__(self, array):\n",
    "        super().__init__()\n",
    "        self.array = array\n",
    "\n",
    "    def __len__(self):\n",
    "        return len(self.array)\n",
    "\n",
    "    def __getitem__(self, index):\n",
    "        return self.array[index]"
   ]
  },
  {
   "cell_type": "code",
   "execution_count": 4,
   "metadata": {},
   "outputs": [],
   "source": [
    "def loss_function(target_distribution, z, dz_by_dx):\n",
    "    # log(p_Z(z)) = target_distribution.log_prob(z)\n",
    "    # log(dz/dx) = dz_by_dx.log() (flow is defined so that dz/dx>0)\n",
    "    log_likelihood = target_distribution.log_prob(z) + dz_by_dx.log()\n",
    "    return -log_likelihood.mean()  #flip sign, and sum of data X_1,...X_N"
   ]
  },
  {
   "cell_type": "markdown",
   "metadata": {},
   "source": [
    "Now we train and test model."
   ]
  },
  {
   "cell_type": "code",
   "execution_count": 5,
   "metadata": {},
   "outputs": [],
   "source": [
    "n_train, n_test = 5000, 1000\n",
    "train_data = mixture_of_gaussians(n_train)\n",
    "test_data = mixture_of_gaussians(n_test)\n",
    "\n",
    "train_loader = data.DataLoader(MyDataset(train_data), batch_size=batch_size, shuffle=True)\n",
    "test_loader = data.DataLoader(MyDataset(test_data), batch_size=batch_size, shuffle=True)\n",
    "\n",
    "# create model\n",
    "flow = Flow1d(n_components)\n",
    "optimizer = torch.optim.Adam(flow.parameters(), lr=learning_rate)\n",
    "\n",
    "train_losses, test_losses = [], []\n",
    "\n",
    "for epoch in range(epochs):\n",
    "    # train\n",
    "    # flow.train()\n",
    "    mean_loss = 0\n",
    "    for i, x in enumerate(train_loader):\n",
    "        z, dz_by_dx = flow(x)\n",
    "        loss = loss_function(target_distribution, z, dz_by_dx)\n",
    "        optimizer.zero_grad()\n",
    "        loss.backward()\n",
    "        optimizer.step()\n",
    "\n",
    "        mean_loss += loss.item()\n",
    "    train_losses.append(mean_loss/(i+1))\n",
    "\n",
    "    # test\n",
    "    flow.eval()\n",
    "    mean_loss = 0\n",
    "    for i, x in enumerate(test_loader):\n",
    "        z, dz_by_dx = flow(x)\n",
    "        loss = loss_function(target_distribution, z, dz_by_dx)\n",
    "\n",
    "        mean_loss += loss.item()\n",
    "    test_losses.append(mean_loss/(i+1))"
   ]
  },
  {
   "cell_type": "markdown",
   "metadata": {},
   "source": [
    "Followings are results.  \n",
    "\n",
    "First, as we set, distribution of data looks closed to mixture Gaussian."
   ]
  },
  {
   "cell_type": "code",
   "execution_count": 6,
   "metadata": {},
   "outputs": [
    {
     "data": {
      "image/png": "[encoded data removed]",
      "text/plain": [
       "<Figure size 864x288 with 2 Axes>"
      ]
     },
     "metadata": {
      "needs_background": "light"
     },
     "output_type": "display_data"
    }
   ],
   "source": [
    "_, axes = plt.subplots(1,2, figsize=(12,4))\n",
    "_ = axes[0].hist(train_loader.dataset.array, bins=50)\n",
    "_ = axes[1].hist(test_loader.dataset.array, bins=50)\n",
    "_ = axes[0].set_title('Training data')\n",
    "_ = axes[1].set_title('Test data')"
   ]
  },
  {
   "cell_type": "markdown",
   "metadata": {},
   "source": [
    "Next figures reflects out training, and test step.  \n",
    "As you see, it works well."
   ]
  },
  {
   "cell_type": "code",
   "execution_count": 7,
   "metadata": {},
   "outputs": [
    {
     "data": {
      "text/plain": [
       "<matplotlib.legend.Legend at 0x1e4d3f4a250>"
      ]
     },
     "execution_count": 7,
     "metadata": {},
     "output_type": "execute_result"
    },
    {
     "data": {
      "image/png": "[encoded data removed]",
      "text/plain": [
       "<Figure size 432x288 with 1 Axes>"
      ]
     },
     "metadata": {
      "needs_background": "light"
     },
     "output_type": "display_data"
    }
   ],
   "source": [
    "plt.plot(train_losses, label='train_loss')\n",
    "plt.plot(test_losses, label='test_loss')\n",
    "plt.legend()"
   ]
  },
  {
   "cell_type": "markdown",
   "metadata": {},
   "source": [
    "Finally, below figures are visualization of $f_\\theta$."
   ]
  },
  {
   "cell_type": "code",
   "execution_count": 8,
   "metadata": {},
   "outputs": [
    {
     "data": {
      "image/png": "[encoded data removed]",
      "text/plain": [
       "<Figure size 864x288 with 2 Axes>"
      ]
     },
     "metadata": {
      "needs_background": "light"
     },
     "output_type": "display_data"
    }
   ],
   "source": [
    "x = np.linspace(-3,3,1000)\n",
    "with torch.no_grad():\n",
    "    z, dz_by_dx = flow(torch.FloatTensor(x))\n",
    "    px = (target_distribution.log_prob(z) + dz_by_dx.log()).exp().cpu().numpy()\n",
    "    \n",
    "_, axes = plt.subplots(1,2, figsize=(12,4))\n",
    "_ = axes[0].plot(x,px)\n",
    "_ = axes[0].set_title('Learned distribution')\n",
    "\n",
    "_ = axes[1].plot(x,z)\n",
    "_ = axes[1].set_title('x -> z')"
   ]
  },
  {
   "cell_type": "markdown",
   "metadata": {},
   "source": [
    "We must check whether $f_\\theta$ preserves expected distribution of $z$, defined initially.  \n",
    "Although there are some defects near mean, overall shape is similar to expected standard normal distribution."
   ]
  },
  {
   "cell_type": "code",
   "execution_count": 9,
   "metadata": {},
   "outputs": [
    {
     "data": {
      "image/png": "[encoded data removed]",
      "text/plain": [
       "<Figure size 432x288 with 1 Axes>"
      ]
     },
     "metadata": {
      "needs_background": "light"
     },
     "output_type": "display_data"
    }
   ],
   "source": [
    "with torch.no_grad():\n",
    "    z, _ = flow(torch.FloatTensor(train_loader.dataset.array))\n",
    "    \n",
    "_ = plt.hist(np.array(z), bins=50)"
   ]
  }
 ],
 "metadata": {
  "kernelspec": {
   "display_name": "Python 3.9.12 ('RL')",
   "language": "python",
   "name": "python3"
  },
  "language_info": {
   "codemirror_mode": {
    "name": "ipython",
    "version": 3
   },
   "file_extension": ".py",
   "mimetype": "text/x-python",
   "name": "python",
   "nbconvert_exporter": "python",
   "pygments_lexer": "ipython3",
   "version": "3.9.12"
  },
  "orig_nbformat": 4,
  "vscode": {
   "interpreter": {
    "hash": "b317da953ad838286c0c6ab0dfc4969c0da5f5eb296aba9f813b609fe07b4eeb"
   }
  }
 },
 "nbformat": 4,
 "nbformat_minor": 2
}
