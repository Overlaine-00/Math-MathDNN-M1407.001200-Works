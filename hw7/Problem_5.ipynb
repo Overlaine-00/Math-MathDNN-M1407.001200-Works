{
 "cells": [
  {
   "cell_type": "markdown",
   "metadata": {},
   "source": [
    "# Problem 5"
   ]
  },
  {
   "cell_type": "code",
   "execution_count": 1,
   "metadata": {},
   "outputs": [],
   "source": [
    "import torch.nn as nn\n",
    "import torch\n",
    "import torchvision"
   ]
  },
  {
   "cell_type": "code",
   "execution_count": 2,
   "metadata": {},
   "outputs": [],
   "source": [
    "class Net1(nn.Module):\n",
    "    def __init__(self, num_classes=10):\n",
    "        super(Net1, self).__init__()\n",
    "        self.features = nn.Sequential(\n",
    "            nn.Conv2d(3, 64, kernel_size=7, stride=1),\n",
    "            nn.ReLU(),\n",
    "            nn.Conv2d(64, 192, kernel_size=3, stride=1),\n",
    "            nn.ReLU(),\n",
    "            nn.Conv2d(192, 384, kernel_size=3, stride=1),\n",
    "            nn.ReLU(),\n",
    "            nn.Conv2d(384, 256, kernel_size=3, stride=1),\n",
    "            nn.ReLU(),\n",
    "            nn.Conv2d(256, 256, kernel_size=3, stride=1),\n",
    "        )\n",
    "        self.classifier = nn.Sequential(\n",
    "            nn.Linear(256 * 18 * 18, 4096),\n",
    "            nn.ReLU(),\n",
    "            nn.Linear(4096, 4096),\n",
    "            nn.ReLU(),\n",
    "            nn.Linear(4096, num_classes)\n",
    "        )\n",
    "\n",
    "    def forward(self, x):\n",
    "        x = self.features(x)\n",
    "        x = torch.flatten(x, 1)\n",
    "        x = self.classifier(x)\n",
    "        return x"
   ]
  },
  {
   "cell_type": "markdown",
   "metadata": {},
   "source": [
    "When we set kernel size of convolutional neural network equal to input image size,  \n",
    "* each out cell is of size $1\\times1$, and  \n",
    "* each out cell is return of activation followed by linear combination of all input entries and bias.  \n",
    "\n",
    "Thus we set first Conv2d as (in_channel, out_channel, kernel_size) = (256,4096,18). Next, we use the property that $1\\times1$ convolutional is equivalent to linear."
   ]
  },
  {
   "cell_type": "code",
   "execution_count": 3,
   "metadata": {},
   "outputs": [],
   "source": [
    "class Net2(nn.Module):\n",
    "    def __init__(self, num_classes=10):\n",
    "        super(Net2, self).__init__()\n",
    "        self.features = nn.Sequential(\n",
    "            nn.Conv2d(3, 64, kernel_size=7, stride=1),\n",
    "            nn.ReLU(),\n",
    "            nn.Conv2d(64, 192, kernel_size=3, stride=1),\n",
    "            nn.ReLU(),\n",
    "            nn.Conv2d(192, 384, kernel_size=3, stride=1),\n",
    "            nn.ReLU(),\n",
    "            nn.Conv2d(384, 256, kernel_size=3, stride=1),\n",
    "            nn.ReLU(),\n",
    "            nn.Conv2d(256, 256, kernel_size=3, stride=1),\n",
    "        )\n",
    "\n",
    "    ###########################################################  \n",
    "    ### TODO: Complete initialization of self.classifier    ###\n",
    "    ###        by filling in the ...                        ###\n",
    "    ###########################################################\n",
    "        self.classifier = nn.Sequential(\n",
    "            nn.Conv2d(256, 4096, kernel_size=18),\n",
    "            nn.ReLU(),\n",
    "            nn.Conv2d(4096, 4096, kernel_size=1),\n",
    "            nn.ReLU(),\n",
    "            nn.Conv2d(4096, num_classes, kernel_size=1)\n",
    "      )\n",
    "\n",
    "    def copy_weights_from(self, net1 : Net1):\n",
    "        with torch.no_grad():\n",
    "            for i in range(0, len(self.features), 2):\n",
    "                self.features[i].weight.copy_(net1.features[i].weight)\n",
    "                self.features[i].bias.copy_(net1.features[i].bias)\n",
    "\n",
    "            for i in range(len(self.classifier)):\n",
    "                ####################################################\n",
    "                ### TO DO: Correctly transfer weight of Net1     ###\n",
    "                ####################################################\n",
    "                if i == 0:\n",
    "                    self.classifier[i].weight.data = torch.reshape(net1.classifier[i].weight.data, (4096,256,18,18))\n",
    "                    self.classifier[i].bias.data = net1.classifier[i].bias.data\n",
    "                elif i == 2:\n",
    "                    self.classifier[i].weight.data = torch.reshape(net1.classifier[i].weight.data, (4096,4096,1,1))\n",
    "                    self.classifier[i].bias.data = net1.classifier[i].bias.data\n",
    "                elif i == 4:\n",
    "                    self.classifier[i].weight.data = torch.reshape(net1.classifier[i].weight.data, (10,4096,1,1))\n",
    "                    self.classifier[i].bias.data = net1.classifier[i].bias.data\n",
    "                    \n",
    "                \n",
    "\n",
    "    def forward(self, x):\n",
    "        x = self.features(x)\n",
    "        x = self.classifier(x)\n",
    "        return x"
   ]
  },
  {
   "cell_type": "code",
   "execution_count": 7,
   "metadata": {},
   "outputs": [
    {
     "name": "stdout",
     "output_type": "stream",
     "text": [
      "Downloading https://www.cs.toronto.edu/~kriz/cifar-10-python.tar.gz to ./data\\cifar-10-python.tar.gz\n"
     ]
    },
    {
     "data": {
      "application/vnd.jupyter.widget-view+json": {
       "model_id": "0f22276cbdac40909fe534a32cc66fe6",
       "version_major": 2,
       "version_minor": 0
      },
      "text/plain": [
       "  0%|          | 0/170498071 [00:00<?, ?it/s]"
      ]
     },
     "metadata": {},
     "output_type": "display_data"
    },
    {
     "name": "stdout",
     "output_type": "stream",
     "text": [
      "Extracting ./data\\cifar-10-python.tar.gz to ./data\n",
      "Average Pixel Difference: 6.363434939665928e-17\n",
      "Files already downloaded and verified\n"
     ]
    }
   ],
   "source": [
    "model1 = Net1() # model1 randomly initialized\n",
    "model2 = Net2()\n",
    "model2.copy_weights_from(model1)\n",
    "\n",
    "test_dataset = torchvision.datasets.CIFAR10(\n",
    "    root='./data',\n",
    "    train=False,\n",
    "    transform=torchvision.transforms.ToTensor(),\n",
    "    download=True\n",
    ")\n",
    "\n",
    "test_loader = torch.utils.data.DataLoader(\n",
    "    dataset=test_dataset,\n",
    "    batch_size=10\n",
    ")\n",
    "\n",
    "imgs, _ = next(iter(test_loader))\n",
    "diff = torch.mean((model1(imgs) - model2(imgs).squeeze()) ** 2)\n",
    "print(f\"Average Pixel Difference: {diff.item()}\") # should be small\n",
    "\n",
    "\n",
    "test_dataset = torchvision.datasets.CIFAR10(\n",
    "    root='./cifar_10data',\n",
    "    train=False,\n",
    "    transform=torchvision.transforms.Compose([\n",
    "        torchvision.transforms.Resize((36, 38)),\n",
    "        torchvision.transforms.ToTensor()\n",
    "        ]),\n",
    "    download=True\n",
    ")\n",
    "\n",
    "test_loader = torch.utils.data.DataLoader(\n",
    "    dataset=test_dataset,\n",
    "    batch_size=10,\n",
    "    shuffle=False\n",
    ")"
   ]
  },
  {
   "cell_type": "markdown",
   "metadata": {},
   "source": [
    "The difference is enoughly small, as we wished."
   ]
  },
  {
   "cell_type": "code",
   "execution_count": 8,
   "metadata": {},
   "outputs": [
    {
     "name": "stdout",
     "output_type": "stream",
     "text": [
      "Average Pixel Diff: 6.630028633646868e-17\n"
     ]
    }
   ],
   "source": [
    "images, _ = next(iter(test_loader))\n",
    "b, w, h = images.shape[0], images.shape[-1], images.shape[-2]\n",
    "out1 = torch.empty((b, 10, h - 31, w - 31))\n",
    "for i in range(h - 31):\n",
    "    for j in range(w - 31):\n",
    "        ########################################################\n",
    "        ### TO DO: fill in ... to make out1 and out2 equal   ###\n",
    "        ########################################################\n",
    "        \n",
    "        out1[:, :, i, j] = model1(images[:,:,i:i+32,j:j+32])\n",
    "out2 = model2(images)\n",
    "diff = torch.mean((out1 - out2) ** 2)\n",
    "\n",
    "print(f\"Average Pixel Diff: {diff.item()}\")"
   ]
  },
  {
   "cell_type": "markdown",
   "metadata": {},
   "source": [
    "This difference is also small, and similar to previous one. This guarantees our expectation realizes well."
   ]
  }
 ],
 "metadata": {
  "kernelspec": {
   "display_name": "Python 3.9.12 ('RL')",
   "language": "python",
   "name": "python3"
  },
  "language_info": {
   "codemirror_mode": {
    "name": "ipython",
    "version": 3
   },
   "file_extension": ".py",
   "mimetype": "text/x-python",
   "name": "python",
   "nbconvert_exporter": "python",
   "pygments_lexer": "ipython3",
   "version": "3.9.12"
  },
  "orig_nbformat": 4,
  "vscode": {
   "interpreter": {
    "hash": "b317da953ad838286c0c6ab0dfc4969c0da5f5eb296aba9f813b609fe07b4eeb"
   }
  }
 },
 "nbformat": 4,
 "nbformat_minor": 2
}
