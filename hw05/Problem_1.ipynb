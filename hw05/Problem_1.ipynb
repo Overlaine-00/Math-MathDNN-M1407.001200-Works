{
 "cells": [
  {
   "cell_type": "markdown",
   "metadata": {},
   "source": [
    "# Problem 1\n",
    "\n",
    "As usual, import required module."
   ]
  },
  {
   "cell_type": "code",
   "execution_count": 1,
   "metadata": {},
   "outputs": [],
   "source": [
    "import numpy as np\n",
    "import torch"
   ]
  },
  {
   "cell_type": "markdown",
   "metadata": {},
   "source": [
    "To record backprop, we use A_list, b_list, and y_list. Both corresponds to derivative w.r.t A, b, y."
   ]
  },
  {
   "cell_type": "code",
   "execution_count": 30,
   "metadata": {},
   "outputs": [],
   "source": [
    "def sigma(x):\n",
    "    return torch.sigmoid(x)\n",
    "def sigma_prime(x):\n",
    "    return sigma(x)*(1-sigma(x))\n",
    "\n",
    "\n",
    "torch.manual_seed(0)\n",
    "L = 6\n",
    "X_data = torch.rand(4, 1)\n",
    "Y_data = torch.rand(1, 1)\n",
    "\n",
    "A_list,b_list = [],[]\n",
    "for _ in range(L-1):\n",
    "    A_list.append(torch.rand(4, 4))\n",
    "    b_list.append(torch.rand(4, 1))\n",
    "A_list.append(torch.rand(1, 4))\n",
    "b_list.append(torch.rand(1, 1))\n",
    "\n",
    "y_list = [X_data]\n",
    "y = X_data\n",
    "for ell in range(L):\n",
    "    S = sigma if ell<L-1 else lambda x: x\n",
    "    y = S(A_list[ell]@y+b_list[ell])\n",
    "    y_list.append(y)"
   ]
  },
  {
   "cell_type": "markdown",
   "metadata": {},
   "source": [
    "Next we compute gradient. First case should be treated separately, because its formula is different. This is coded in \"if\" case.  \n",
    "\n",
    "The case \"else\" treats another. compute diag(-) part first, and moderately multipying other terms as in problem 6 of homework 4.  \n",
    "\n",
    "Manual gradient gives the following result."
   ]
  },
  {
   "cell_type": "code",
   "execution_count": 31,
   "metadata": {},
   "outputs": [
    {
     "name": "stdout",
     "output_type": "stream",
     "text": [
      "tensor([[2.3943e-05, 3.7064e-05, 4.2687e-06, 6.3700e-06],\n",
      "        [3.4104e-05, 5.2794e-05, 6.0804e-06, 9.0735e-06],\n",
      "        [2.4438e-05, 3.7831e-05, 4.3571e-06, 6.5019e-06],\n",
      "        [2.0187e-05, 3.1250e-05, 3.5991e-06, 5.3707e-06]])\n"
     ]
    }
   ],
   "source": [
    "dA_list = []\n",
    "db_list = []\n",
    "dy = y-Y_data  # dloss/dy_L\n",
    "for ell in reversed(range(L)):\n",
    "    S = sigma_prime if ell<L-1 else lambda x: torch.ones(x.shape)\n",
    "    A, b, y = A_list[ell], b_list[ell], y_list[ell]\n",
    "\n",
    "    if ell == L-1:\n",
    "        db = dy\n",
    "        dA = dy*y.T\n",
    "        dy = dy*A\n",
    "    else:\n",
    "        diagonal_gradient = torch.diag(S(A@y + b).squeeze(dim=1))\n",
    "        \n",
    "        db = dy@diagonal_gradient   # dloss/db_ell  \n",
    "        dA = diagonal_gradient@(dy.T)@(y.T)    # dloss/dA_ell\n",
    "        dy = dy@diagonal_gradient@A    # dloss/dy_{ell-1}\n",
    "\n",
    "    dA_list.insert(0, dA)\n",
    "    db_list.insert(0, db)\n",
    "\n",
    "print(dA_list[0])"
   ]
  },
  {
   "cell_type": "markdown",
   "metadata": {},
   "source": [
    "To verify, we can use existed pytorch autograd engine."
   ]
  },
  {
   "cell_type": "code",
   "execution_count": 32,
   "metadata": {},
   "outputs": [
    {
     "name": "stdout",
     "output_type": "stream",
     "text": [
      "tensor([[2.3943e-05, 3.7064e-05, 4.2687e-06, 6.3700e-06],\n",
      "        [3.4104e-05, 5.2794e-05, 6.0804e-06, 9.0735e-06],\n",
      "        [2.4438e-05, 3.7831e-05, 4.3571e-06, 6.5019e-06],\n",
      "        [2.0187e-05, 3.1250e-05, 3.5991e-06, 5.3707e-06]])\n"
     ]
    }
   ],
   "source": [
    "for A in A_list:\n",
    "    A.requires_grad = True\n",
    "for b in b_list:\n",
    "    b.requires_grad = True\n",
    "    \n",
    "y = X_data\n",
    "for ell in range(L):\n",
    "    S = sigma if ell<L-1 else lambda x: x\n",
    "    y = S(A_list[ell]@y+b_list[ell])\n",
    "    \n",
    "# backward pass in pytorch\n",
    "loss=torch.square(y-Y_data)/2\n",
    "loss.backward()\n",
    "\n",
    "print(A_list[0].grad)"
   ]
  },
  {
   "cell_type": "markdown",
   "metadata": {},
   "source": [
    "As you can see, both results are the same."
   ]
  }
 ],
 "metadata": {
  "kernelspec": {
   "display_name": "Python 3.9.12 ('RL')",
   "language": "python",
   "name": "python3"
  },
  "language_info": {
   "codemirror_mode": {
    "name": "ipython",
    "version": 3
   },
   "file_extension": ".py",
   "mimetype": "text/x-python",
   "name": "python",
   "nbconvert_exporter": "python",
   "pygments_lexer": "ipython3",
   "version": "3.9.12"
  },
  "orig_nbformat": 4,
  "vscode": {
   "interpreter": {
    "hash": "b317da953ad838286c0c6ab0dfc4969c0da5f5eb296aba9f813b609fe07b4eeb"
   }
  }
 },
 "nbformat": 4,
 "nbformat_minor": 2
}
