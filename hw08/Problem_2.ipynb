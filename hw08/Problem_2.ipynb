{
 "cells": [
  {
   "cell_type": "markdown",
   "metadata": {},
   "source": [
    "## Problem 2"
   ]
  },
  {
   "cell_type": "code",
   "execution_count": 5,
   "metadata": {},
   "outputs": [],
   "source": [
    "import numpy as np\n",
    "import torch\n",
    "from torch import nn"
   ]
  },
  {
   "cell_type": "markdown",
   "metadata": {},
   "source": [
    "To compare with upsample module in torch, set both layers with kernel, stride = 2.  \n",
    "The mode 'nearest' in nn.Upsample send 1 to [[1,1],[1,1]], so we have to divide the result by 4. This is implemented in below.  \n",
    "As in problem 5 of homework 7, we identify $1\\times4$ linear layer with $2\\times2$ convolutional layer. Then our manual upsampling layer has weight 0.25 for all cell."
   ]
  },
  {
   "cell_type": "code",
   "execution_count": 12,
   "metadata": {},
   "outputs": [],
   "source": [
    "upsample_layer_torch = nn.Upsample(scale_factor=2, mode='nearest')\n",
    "\n",
    "def manual_upsampling(r : int):\n",
    "    upsample_layer = nn.ConvTranspose2d(1, 1, kernel_size=r, stride=r, bias=False)\n",
    "    upsample_layer.weight.data = torch.ones((r,r)).reshape(1,1,r,r)\n",
    "    return upsample_layer\n",
    "upsample_layer_manual = manual_upsampling(2)"
   ]
  },
  {
   "cell_type": "code",
   "execution_count": 13,
   "metadata": {},
   "outputs": [
    {
     "name": "stdout",
     "output_type": "stream",
     "text": [
      "tensor(0.)\n"
     ]
    }
   ],
   "source": [
    "diff = torch.tensor(0)\n",
    "\n",
    "with torch.no_grad():\n",
    "    for _ in range(10):\n",
    "        X = torch.rand(size=(3,3)).view(1,1,3,3)\n",
    "        y_torch = upsample_layer_torch(X)\n",
    "        y_manual = upsample_layer_manual(X)\n",
    "        diff = torch.max(diff, torch.max(torch.abs(y_torch - y_manual)))\n",
    "\n",
    "print(diff)"
   ]
  },
  {
   "cell_type": "markdown",
   "metadata": {},
   "source": [
    "I run 10 randomly generated $3\\times3$ target data. As you can see, outputs from both layers are exactly same."
   ]
  }
 ],
 "metadata": {
  "kernelspec": {
   "display_name": "Python 3.9.12 ('RL')",
   "language": "python",
   "name": "python3"
  },
  "language_info": {
   "codemirror_mode": {
    "name": "ipython",
    "version": 3
   },
   "file_extension": ".py",
   "mimetype": "text/x-python",
   "name": "python",
   "nbconvert_exporter": "python",
   "pygments_lexer": "ipython3",
   "version": "3.9.12"
  },
  "orig_nbformat": 4,
  "vscode": {
   "interpreter": {
    "hash": "b317da953ad838286c0c6ab0dfc4969c0da5f5eb296aba9f813b609fe07b4eeb"
   }
  }
 },
 "nbformat": 4,
 "nbformat_minor": 2
}
