{
 "cells": [
  {
   "cell_type": "markdown",
   "metadata": {},
   "source": [
    "## Problem 5"
   ]
  },
  {
   "cell_type": "code",
   "execution_count": 24,
   "metadata": {},
   "outputs": [],
   "source": [
    "import torch\n",
    "from torch import tensor\n",
    "\n",
    "p = tensor(18/37)\n",
    "q = tensor(0.55)\n",
    "K = 600\n",
    "N = 3000"
   ]
  },
  {
   "cell_type": "markdown",
   "metadata": {},
   "source": [
    "We sample $K=600$ games regardless of end conditions for approximation.  \n",
    "Let $X = (X_1, \\cdots, X_600)$ be result of games. Since each trial has binomial pdf and $X$ is joint random variable of independent samples, we have\n",
    "$$\n",
    "    \\mathbb{E}(X) = \\int_{\\{ 0,1 \\}^600} \\sum_i X_i f(X) dX, \\qquad \\text{where} \\quad f(X) = f_p(X) = \\prod_i p^{X_i} (1-p)^{1-X_i}.\n",
    "$$\n",
    "As suggested in problem, we use importance sampling with $q=0.55$. Thus we must multiply $f_p(X) / f_q(X)$ to the result.  \n",
    "The result is the following."
   ]
  },
  {
   "cell_type": "code",
   "execution_count": 32,
   "metadata": {},
   "outputs": [
    {
     "name": "stdout",
     "output_type": "stream",
     "text": [
      "tensor(1.2997e-06)\n"
     ]
    }
   ],
   "source": [
    "sample = torch.bernoulli(q*torch.ones((N,K)))\n",
    "\n",
    "gain = 2*sample.sum(dim=1) - 500\n",
    "weight = ((p**sample * (1-p)**(1-sample)) / (q**sample * (1-q)**(1-sample))).prod(dim=1)\n",
    "\n",
    "print(((gain>=200)*weight).mean())"
   ]
  }
 ],
 "metadata": {
  "kernelspec": {
   "display_name": "Python 3.9.12 ('RL')",
   "language": "python",
   "name": "python3"
  },
  "language_info": {
   "codemirror_mode": {
    "name": "ipython",
    "version": 3
   },
   "file_extension": ".py",
   "mimetype": "text/x-python",
   "name": "python",
   "nbconvert_exporter": "python",
   "pygments_lexer": "ipython3",
   "version": "3.9.12"
  },
  "orig_nbformat": 4,
  "vscode": {
   "interpreter": {
    "hash": "b317da953ad838286c0c6ab0dfc4969c0da5f5eb296aba9f813b609fe07b4eeb"
   }
  }
 },
 "nbformat": 4,
 "nbformat_minor": 2
}
