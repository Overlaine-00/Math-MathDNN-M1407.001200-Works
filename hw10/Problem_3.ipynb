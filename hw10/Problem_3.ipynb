{
 "cells": [
  {
   "cell_type": "markdown",
   "metadata": {},
   "source": [
    "## Problem 3\n",
    "\n",
    "As usual, import necessary modules, and variables."
   ]
  },
  {
   "cell_type": "code",
   "execution_count": 1,
   "metadata": {},
   "outputs": [],
   "source": [
    "import torch\n",
    "import torch.nn as nn\n",
    "import torch.nn.functional as F\n",
    "import torchvision\n",
    "from torchvision import datasets, transforms\n",
    "from torchvision.utils import save_image, make_grid\n",
    "\n",
    "import numpy as np\n",
    "import matplotlib.pyplot as plt\n",
    "\n",
    "import warnings\n",
    "warnings.filterwarnings('ignore')\n",
    "\n",
    "batch_size = 128\n",
    "(full_dim, mid_dim, hidden) = (1 * 28 * 28, 1000, 5)\n",
    "lr = 1e-3\n",
    "epochs = 100\n",
    "device = torch.device(\"cpu\")"
   ]
  },
  {
   "cell_type": "code",
   "execution_count": 2,
   "metadata": {},
   "outputs": [],
   "source": [
    "class Logistic(torch.distributions.Distribution):\n",
    "    def __init__(self):\n",
    "        super(Logistic, self).__init__()\n",
    "\n",
    "    def log_prob(self, x):\n",
    "        return -(F.softplus(x) + F.softplus(-x))\n",
    "\n",
    "    def sample(self, size):\n",
    "        z = torch.distributions.Uniform(0., 1.).sample(size).to(device)\n",
    "        return torch.log(z) - torch.log(1. - z)\n",
    "\n",
    "class Coupling(nn.Module):\n",
    "    def __init__(self, in_out_dim, mid_dim, hidden, mask_config):\n",
    "        super(Coupling, self).__init__()\n",
    "        self.mask_config = mask_config\n",
    "        \n",
    "        self.in_block = nn.Sequential(nn.Linear(in_out_dim//2, mid_dim), nn.ReLU())\n",
    "        self.mid_block = nn.ModuleList([nn.Sequential(nn.Linear(mid_dim, mid_dim), nn.ReLU())\n",
    "                                                                 for _ in range(hidden - 1)])\n",
    "        self.out_block = nn.Linear(mid_dim, in_out_dim//2)\n",
    "\n",
    "    def forward(self, x, reverse=False):\n",
    "        [B, W] = list(x.size())\n",
    "        x = x.reshape((B, W//2, 2))\n",
    "        if self.mask_config:\n",
    "            on, off = x[:, :, 0], x[:, :, 1]\n",
    "        else:\n",
    "            off, on = x[:, :, 0], x[:, :, 1]\n",
    "\n",
    "        off_ = self.in_block(off)\n",
    "        for i in range(len(self.mid_block)):\n",
    "            off_ = self.mid_block[i](off_)\n",
    "        shift = self.out_block(off_)\n",
    "        \n",
    "        if reverse:\n",
    "            on = on - shift\n",
    "        else:\n",
    "            on = on + shift\n",
    "\n",
    "        if self.mask_config:\n",
    "            x = torch.stack((on, off), dim=2)\n",
    "        else:\n",
    "            x = torch.stack((off, on), dim=2)\n",
    "        return x.reshape((B, W))\n",
    "\n",
    "class Scaling(nn.Module):\n",
    "    def __init__(self, dim):\n",
    "        super(Scaling, self).__init__()\n",
    "        self.scale = nn.Parameter(torch.zeros((1, dim)), requires_grad=True)\n",
    "\n",
    "    def forward(self, x, reverse=False):\n",
    "        log_det_J = torch.sum(self.scale)\n",
    "        if reverse:\n",
    "            x = x * torch.exp(-self.scale)\n",
    "        else:\n",
    "            x = x * torch.exp(self.scale)\n",
    "        return x, log_det_J\n",
    "    \n",
    "class NICE(nn.Module):\n",
    "    def __init__(self,in_out_dim, mid_dim, hidden, mask_config=1.0, coupling=4):\n",
    "        super(NICE, self).__init__()\n",
    "        self.prior = Logistic()\n",
    "        self.in_out_dim = in_out_dim\n",
    "\n",
    "        self.coupling = nn.ModuleList([\n",
    "            Coupling(in_out_dim=in_out_dim, \n",
    "                     mid_dim=mid_dim, \n",
    "                     hidden=hidden, \n",
    "                     mask_config=(mask_config+i)%2) \\\n",
    "            for i in range(coupling)])\n",
    "        \n",
    "        self.scaling = Scaling(in_out_dim)\n",
    "\n",
    "    def g(self, z):\n",
    "        x, _ = self.scaling(z, reverse=True)\n",
    "        for i in reversed(range(len(self.coupling))):\n",
    "            x = self.coupling[i](x, reverse=True)\n",
    "        return x\n",
    "\n",
    "    def f(self, x):\n",
    "        for i in range(len(self.coupling)):\n",
    "            x = self.coupling[i](x)\n",
    "        z, log_det_J = self.scaling(x)\n",
    "        return z, log_det_J\n",
    "\n",
    "    def log_prob(self, x):\n",
    "        z, log_det_J = self.f(x)\n",
    "        log_ll = torch.sum(self.prior.log_prob(z), dim=1)\n",
    "        return log_ll + log_det_J\n",
    "\n",
    "    def sample(self, size):\n",
    "        z = self.prior.sample((size, self.in_out_dim)).to(device)\n",
    "        return self.g(z)\n",
    "\n",
    "    def forward(self, x):\n",
    "        return self.log_prob(x)\n",
    "    \n"
   ]
  },
  {
   "cell_type": "code",
   "execution_count": null,
   "metadata": {},
   "outputs": [],
   "source": [
    "model = NICE(in_out_dim=784, mid_dim=1000, hidden=5).to(device)\n",
    "model.load_state_dict(torch.load('nice.pt',map_location=torch.device('cpu')))\n",
    "\n",
    "model.requires_grad_(False)"
   ]
  },
  {
   "cell_type": "markdown",
   "metadata": {},
   "source": [
    "Load dataset and define mask."
   ]
  },
  {
   "cell_type": "code",
   "execution_count": 10,
   "metadata": {},
   "outputs": [
    {
     "data": {
      "image/png": "[encoded data removed]",
      "text/plain": [
       "<Figure size 288x288 with 1 Axes>"
      ]
     },
     "metadata": {
      "needs_background": "light"
     },
     "output_type": "display_data"
    },
    {
     "data": {
      "image/png": "[encoded data removed]",
      "text/plain": [
       "<Figure size 288x288 with 1 Axes>"
      ]
     },
     "metadata": {
      "needs_background": "light"
     },
     "output_type": "display_data"
    }
   ],
   "source": [
    "testset = torchvision.datasets.MNIST(root='./', train=False, download=True, transform=torchvision.transforms.ToTensor())\n",
    "test_loader = torch.utils.data.DataLoader(testset, batch_size=1, shuffle=False)\n",
    "pass_count = 6\n",
    "itr = iter(test_loader)\n",
    "for _ in range(pass_count+1):\n",
    "    image,_ = itr.next()\n",
    "    \n",
    "plt.figure(figsize = (4,4))\n",
    "plt.title('Original Image')\n",
    "plt.imshow(make_grid(image.squeeze().detach()).permute(1,2,0))\n",
    "plt.show()\n",
    "# plt.savefig('plt1.png')\n",
    "\n",
    "\n",
    "# Create mask \n",
    "mask = torch.ones_like(image,dtype=torch.bool)\n",
    "mask[:,:,5:12,5:20] = 0\n",
    "\n",
    "# Partially corrupt the image\n",
    "image[mask.logical_not()] = torch.ones_like(image[mask.logical_not()])\n",
    "plt.figure(figsize = (4,4))\n",
    "plt.title('Corrupted Image')\n",
    "plt.imshow(make_grid(image.squeeze()).permute(1,2,0))\n",
    "plt.show()\n",
    "# plt.savefig('plt2.png')"
   ]
  },
  {
   "cell_type": "markdown",
   "metadata": {},
   "source": [
    "Now, we define custom inpainting of single image.  \n",
    "We start from corrupted image, and modifying corrupted part only (by constraints) to maximize likelihood (from NICE).  \n",
    "To do this, we define new module \"inpaint\", and set its parameter as image pixels.  \n",
    "Since we are using projective gradient, which includes projection part after usual gradient descent, we add projecting part in our module."
   ]
  },
  {
   "cell_type": "code",
   "execution_count": 34,
   "metadata": {},
   "outputs": [],
   "source": [
    "class inpaint(nn.Module):\n",
    "    def __init__(self, raw_image : torch.Tensor, mask : torch.Tensor):\n",
    "        '''\n",
    "        image : fix size (1,1,28,28) due to the mask\n",
    "        '''\n",
    "        super().__init__()\n",
    "        self.mask = mask\n",
    "        self.image = raw_image.clone().requires_grad_(False)\n",
    "        self.corrupted_part = nn.Parameter(raw_image.clone(), requires_grad=True)\n",
    "    \n",
    "    def forward(self, x):    # x always be a mask\n",
    "        image = x*self.image + x.logical_not()*self.corrupted_part\n",
    "        image = image.reshape((1,28*28))\n",
    "        return model(image)\n",
    "    \n",
    "    def project_gradient(self):\n",
    "        weight = self.corrupted_part.data\n",
    "        weight = torch.clamp(self.mask*self.image + self.mask.logical_not()*weight, torch.tensor(0), torch.tensor(1))\n",
    "        self.corrupted_part.data = weight\n",
    "\n",
    "inpaint_model = inpaint(image, mask)\n",
    "inpaint_optimizer = torch.optim.SGD(params = inpaint_model.parameters(), lr = lr)\n",
    "\n",
    "for i in range(300):\n",
    "    inpaint_optimizer.zero_grad()\n",
    "    loss = -inpaint_model(mask)\n",
    "    loss.backward()\n",
    "    inpaint_optimizer.step()\n",
    "    inpaint_model.project_gradient()"
   ]
  },
  {
   "cell_type": "markdown",
   "metadata": {},
   "source": [
    "The result looks like following."
   ]
  },
  {
   "cell_type": "code",
   "execution_count": 35,
   "metadata": {},
   "outputs": [
    {
     "data": {
      "image/png": "[encoded data removed]",
      "text/plain": [
       "<Figure size 288x288 with 1 Axes>"
      ]
     },
     "metadata": {
      "needs_background": "light"
     },
     "output_type": "display_data"
    }
   ],
   "source": [
    "recon = inpaint_model.corrupted_part.data\n",
    "plt.figure(figsize = (4,4))\n",
    "plt.title('Reconstruction')\n",
    "plt.imshow(make_grid(recon.squeeze().detach()).permute(1,2,0))\n",
    "plt.show()\n",
    "# plt.savefig('plt3.png')"
   ]
  }
 ],
 "metadata": {
  "kernelspec": {
   "display_name": "Python 3.9.12 ('RL')",
   "language": "python",
   "name": "python3"
  },
  "language_info": {
   "codemirror_mode": {
    "name": "ipython",
    "version": 3
   },
   "file_extension": ".py",
   "mimetype": "text/x-python",
   "name": "python",
   "nbconvert_exporter": "python",
   "pygments_lexer": "ipython3",
   "version": "3.9.12"
  },
  "orig_nbformat": 4,
  "vscode": {
   "interpreter": {
    "hash": "b317da953ad838286c0c6ab0dfc4969c0da5f5eb296aba9f813b609fe07b4eeb"
   }
  }
 },
 "nbformat": 4,
 "nbformat_minor": 2
}
