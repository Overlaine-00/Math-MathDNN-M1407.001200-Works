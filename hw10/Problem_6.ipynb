{
 "cells": [
  {
   "cell_type": "markdown",
   "metadata": {},
   "source": [
    "## Problem 6"
   ]
  },
  {
   "cell_type": "code",
   "execution_count": 91,
   "metadata": {},
   "outputs": [],
   "source": [
    "import numpy as np\n",
    "import matplotlib.pyplot as plt\n",
    "\n",
    "num_sample = 100\n",
    "iteration = 1000\n",
    "lr = 0.01"
   ]
  },
  {
   "cell_type": "markdown",
   "metadata": {},
   "source": [
    "#### a) using log-derivate trick.  \n",
    "  \n",
    "First of all, define function to be minimized and gradients. This can be done by log-derivative trick.  \n",
    "To fit the condition $\\sigma > 0$, we substitute $\\sigma = \\exp(\\tau)$ and fit $\\tau$."
   ]
  },
  {
   "cell_type": "code",
   "execution_count": 92,
   "metadata": {},
   "outputs": [],
   "source": [
    "def f(x, mu, tau):\n",
    "    return x*np.sin(x) + (mu-1)**2/2 + np.exp(tau) - tau\n",
    "\n",
    "def grad_mu(x, mu, tau):\n",
    "    sigma = np.exp(tau)\n",
    "    return x*np.sin(x)*(x-mu)/sigma**2 + mu-1\n",
    "\n",
    "def grad_tau(x, mu, tau):\n",
    "    sigma = np.exp(tau)\n",
    "    return (x*np.sin(x)*((x-mu)**2/sigma**3 - np.sqrt(2*np.pi)) + 1 - 1/sigma) * sigma"
   ]
  },
  {
   "cell_type": "markdown",
   "metadata": {},
   "source": [
    "Choose $\\mu$ and $\\tau$ from uniform distribution.  \n",
    "Each sample $X \\sim \\mathcal{N}(\\mu, \\sigma^2)$ is chosen randomly. This is a typical Monte Carlo."
   ]
  },
  {
   "cell_type": "code",
   "execution_count": 99,
   "metadata": {},
   "outputs": [],
   "source": [
    "mu, tau = np.random.uniform(-2,2,size=2)\n",
    "mu_hist, tau_hist = np.zeros((iteration,)), np.zeros((iteration,))\n",
    "\n",
    "for i in range(iteration):\n",
    "    sigma = np.exp(tau)\n",
    "    X = np.random.normal(mu, sigma, (num_sample,))     # using 'one' batch sample\n",
    "    \n",
    "    mu -= lr*np.mean(grad_mu(X, mu, tau))\n",
    "    tau -= lr*np.mean(grad_tau(X, mu, tau))\n",
    "    \n",
    "    mu_hist[i] = mu\n",
    "    tau_hist[i] = tau"
   ]
  },
  {
   "cell_type": "markdown",
   "metadata": {},
   "source": [
    "The final(trained) statistics and flows of function's value under training is described below."
   ]
  },
  {
   "cell_type": "code",
   "execution_count": 100,
   "metadata": {},
   "outputs": [
    {
     "name": "stdout",
     "output_type": "stream",
     "text": [
      "mean : 0.28,    std : 0.64\n"
     ]
    },
    {
     "data": {
      "text/plain": [
       "[<matplotlib.lines.Line2D at 0x1ee92f039d0>]"
      ]
     },
     "execution_count": 100,
     "metadata": {},
     "output_type": "execute_result"
    },
    {
     "data": {
      "image/png": "[encoded data removed]",
      "text/plain": [
       "<Figure size 432x288 with 1 Axes>"
      ]
     },
     "metadata": {
      "needs_background": "light"
     },
     "output_type": "display_data"
    }
   ],
   "source": [
    "ran = np.arange(iteration)\n",
    "val = np.zeros((iteration,))\n",
    "\n",
    "for i in range(iteration):\n",
    "    mu = mu_hist[i]\n",
    "    tau = tau_hist[i]; sigma = np.exp(tau)\n",
    "    X = np.random.normal(mu, sigma, size=(num_sample,))\n",
    "    \n",
    "    val[i] = np.mean(f(X,mu,tau))\n",
    "\n",
    "print(f\"mean : {mu_hist[-1]:.2f},    std : {np.exp(tau_hist[-1]):.2f}\")\n",
    "plt.plot(ran,val)"
   ]
  },
  {
   "cell_type": "markdown",
   "metadata": {},
   "source": [
    "#### b) the reparametriztion trick.\n",
    "\n",
    "Everything is same, except that we use the following equation\n",
    "$$\n",
    "    \\mathcal{N}(\\mu, \\sigma^2) = \\mu + \\sigma\\mathcal{N}(0, 1).\n",
    "$$\n",
    "This changes gradient functions."
   ]
  },
  {
   "cell_type": "code",
   "execution_count": 95,
   "metadata": {},
   "outputs": [],
   "source": [
    "def grad_mu(y, mu, tau):\n",
    "    sigma = np.exp(tau)\n",
    "    return np.sin(mu + sigma*y) + (mu + sigma*y)*np.cos(mu + sigma*y) + mu - 1\n",
    "\n",
    "def grad_tau(y, mu ,tau):\n",
    "    sigma = np.exp(tau)\n",
    "    return (y*np.sin(mu + sigma*y) + y*(mu + sigma*y)*np.cos(mu + sigma*y) + 1 - 1/sigma) * sigma"
   ]
  },
  {
   "cell_type": "code",
   "execution_count": 96,
   "metadata": {},
   "outputs": [],
   "source": [
    "mu, tau = np.random.uniform(-2,2,size=2)\n",
    "mu_hist, tau_hist = np.zeros((iteration,)), np.zeros((iteration,))\n",
    "\n",
    "for i in range(iteration):\n",
    "    sigma = np.exp(tau)\n",
    "    X = np.random.normal(mu, sigma, (num_sample,))     # using 'one' batch sample\n",
    "    \n",
    "    mu -= lr*np.mean(grad_mu(X, mu, tau))\n",
    "    tau -= lr*np.mean(grad_tau(X, mu, tau))\n",
    "    \n",
    "    mu_hist[i] = mu\n",
    "    tau_hist[i] = tau"
   ]
  },
  {
   "cell_type": "markdown",
   "metadata": {},
   "source": [
    "The results are following."
   ]
  },
  {
   "cell_type": "code",
   "execution_count": 97,
   "metadata": {},
   "outputs": [
    {
     "name": "stdout",
     "output_type": "stream",
     "text": [
      "mean : 0.28,    std : 0.65\n"
     ]
    },
    {
     "data": {
      "text/plain": [
       "[<matplotlib.lines.Line2D at 0x1ee91ecf910>]"
      ]
     },
     "execution_count": 97,
     "metadata": {},
     "output_type": "execute_result"
    },
    {
     "data": {
      "image/png": "[encoded data removed]",
      "text/plain": [
       "<Figure size 432x288 with 1 Axes>"
      ]
     },
     "metadata": {
      "needs_background": "light"
     },
     "output_type": "display_data"
    }
   ],
   "source": [
    "ran = np.arange(iteration)\n",
    "val = np.zeros((iteration,))\n",
    "\n",
    "for i in range(iteration):\n",
    "    mu = mu_hist[i]\n",
    "    tau = tau_hist[i]; sigma = np.exp(tau)\n",
    "    X = np.random.normal(mu, sigma, size=(num_sample,))\n",
    "    \n",
    "    val[i] = np.mean(f(X,mu,tau))\n",
    "\n",
    "print(f\"mean : {mu_hist[-1]:.2f},    std : {np.exp(tau_hist[-1]):.2f}\")\n",
    "plt.plot(ran,val)"
   ]
  }
 ],
 "metadata": {
  "kernelspec": {
   "display_name": "Python 3.9.12 ('RL')",
   "language": "python",
   "name": "python3"
  },
  "language_info": {
   "codemirror_mode": {
    "name": "ipython",
    "version": 3
   },
   "file_extension": ".py",
   "mimetype": "text/x-python",
   "name": "python",
   "nbconvert_exporter": "python",
   "pygments_lexer": "ipython3",
   "version": "3.9.12"
  },
  "orig_nbformat": 4,
  "vscode": {
   "interpreter": {
    "hash": "b317da953ad838286c0c6ab0dfc4969c0da5f5eb296aba9f813b609fe07b4eeb"
   }
  }
 },
 "nbformat": 4,
 "nbformat_minor": 2
}
