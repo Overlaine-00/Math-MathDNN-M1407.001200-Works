{
 "cells": [
  {
   "cell_type": "markdown",
   "metadata": {},
   "source": [
    "# Problem 1\n",
    "\n"
   ]
  },
  {
   "cell_type": "code",
   "execution_count": 1,
   "metadata": {},
   "outputs": [],
   "source": [
    "import numpy as np\n",
    "import matplotlib.pyplot as plt"
   ]
  },
  {
   "cell_type": "markdown",
   "metadata": {},
   "source": [
    "Set defautl varibales."
   ]
  },
  {
   "cell_type": "code",
   "execution_count": 2,
   "metadata": {},
   "outputs": [],
   "source": [
    "np.random.seed(0)\n",
    "N, p  = 30, 20\n",
    "X = np.random.randn(N,p)    # (N,p)\n",
    "Y = 2*np.random.randint(2,size=N) - 1    # (1,N)"
   ]
  },
  {
   "cell_type": "markdown",
   "metadata": {},
   "source": [
    "Define logistic function and its gradient."
   ]
  },
  {
   "cell_type": "code",
   "execution_count": 3,
   "metadata": {},
   "outputs": [],
   "source": [
    "def f(theta : np.ndarray, i : int) -> np.float64:\n",
    "    return np.log( 1+np.exp(-Y[i]*(X[i]@theta)) )\n",
    "\n",
    "def F(theta : np.ndarray) -> np.float64:\n",
    "    return sum(f(theta,i) for i in range(N))/N\n",
    "\n",
    "def grad_f(theta : np.ndarray, i : int) -> np.ndarray:\n",
    "    denominator = 1+np.exp(Y[i]*(X[i]@theta))\n",
    "    numerator = -Y[i]*X[i]\n",
    "    return numerator/denominator"
   ]
  },
  {
   "cell_type": "markdown",
   "metadata": {},
   "source": [
    "Now, we run SGD.\n",
    "\n",
    "Start from randomly chosen theta with learning rate = 0.01 and iteration 10,000 times.\n",
    "\n",
    "In each iteration, we save theta and logistic value(=loss)"
   ]
  },
  {
   "cell_type": "code",
   "execution_count": 4,
   "metadata": {},
   "outputs": [],
   "source": [
    "alpha = 0.01\n",
    "theta = np.random.randn(p)\n",
    "thetas = []\n",
    "values = []\n",
    "\n",
    "iteration_num = 10000\n",
    "for _ in range(iteration_num):\n",
    "    i = np.random.randint(N)\n",
    "    theta -= alpha*grad_f(theta, i)\n",
    "    thetas.append(theta.copy())\n",
    "    values.append(F(theta))"
   ]
  },
  {
   "cell_type": "markdown",
   "metadata": {},
   "source": [
    "Previously, we store history of two variables, theta and loss.\n",
    "\n",
    "To visualize the convergence of theta, we compute L2-norm of historical value compared to last one. If our SGD works poorly, we get oscilating graph, otherwise we get rapidly decaying graph. Here, one can apply well-known equivalnce between convergence of sequence and convergence of Cauchy sequence.\n",
    "\n",
    "Also, we descibe logistic value, wich is just loss.\n",
    "\n",
    "I named first one as \"theta-distance\", and second one \"value\". The results are following:"
   ]
  },
  {
   "cell_type": "code",
   "execution_count": 5,
   "metadata": {},
   "outputs": [
    {
     "data": {
      "image/png": "[encoded data removed]",
      "text/plain": [
       "<Figure size 432x288 with 2 Axes>"
      ]
     },
     "metadata": {
      "needs_background": "light"
     },
     "output_type": "display_data"
    }
   ],
   "source": [
    "x = np.arange(iteration_num)\n",
    "y_distance = np.apply_along_axis(np.linalg.norm, axis=1, arr=np.array(thetas)-thetas[-1])\n",
    "y_val = np.array(values)\n",
    "\n",
    "plt.subplot(2,1,1)\n",
    "plt.plot(x, y_distance)\n",
    "plt.title(\"Theta-distance\")\n",
    "\n",
    "plt.subplot(2,1,2)\n",
    "plt.plot(x, y_val)\n",
    "plt.title(\"Value\")\n",
    "\n",
    "plt.subplots_adjust(hspace=0.7)\n",
    "plt.show()\n"
   ]
  },
  {
   "cell_type": "markdown",
   "metadata": {},
   "source": [
    "These concludes our logistic regression using SGD works well."
   ]
  }
 ],
 "metadata": {
  "kernelspec": {
   "display_name": "Python 3.9.12 ('RL')",
   "language": "python",
   "name": "python3"
  },
  "language_info": {
   "codemirror_mode": {
    "name": "ipython",
    "version": 3
   },
   "file_extension": ".py",
   "mimetype": "text/x-python",
   "name": "python",
   "nbconvert_exporter": "python",
   "pygments_lexer": "ipython3",
   "version": "3.9.12"
  },
  "orig_nbformat": 4,
  "vscode": {
   "interpreter": {
    "hash": "b317da953ad838286c0c6ab0dfc4969c0da5f5eb296aba9f813b609fe07b4eeb"
   }
  }
 },
 "nbformat": 4,
 "nbformat_minor": 2
}
