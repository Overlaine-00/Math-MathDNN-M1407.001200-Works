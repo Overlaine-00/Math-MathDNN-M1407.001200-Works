{
 "cells": [
  {
   "cell_type": "markdown",
   "metadata": {},
   "source": [
    "# Problem 3\n",
    "\n"
   ]
  },
  {
   "cell_type": "code",
   "execution_count": 9,
   "metadata": {},
   "outputs": [],
   "source": [
    "import numpy as np\n",
    "import matplotlib.pyplot as plt"
   ]
  },
  {
   "cell_type": "markdown",
   "metadata": {},
   "source": [
    "As usual, set default variables."
   ]
  },
  {
   "cell_type": "code",
   "execution_count": 10,
   "metadata": {},
   "outputs": [],
   "source": [
    "N = 30\n",
    "np.random.seed(0)\n",
    "X = np.random.randn(2,N)\n",
    "y = np.sign(X[0,:]**2+X[1,:]**2-0.7)\n",
    "theta = 0.5\n",
    "c,s = np.cos(theta), np.sin(theta)\n",
    "X = np.array([[c,-s], [s,c]])@X\n",
    "X = X + np.array([[1],[1]])"
   ]
  },
  {
   "cell_type": "markdown",
   "metadata": {},
   "source": [
    "## 1. Check whether given data is linearly separable\n",
    "\n",
    "We make 2D scatter plot, with coordinate as columns of X. Blue points are positive points, i.e., corresponding y is positive. Red points are negative points."
   ]
  },
  {
   "cell_type": "code",
   "execution_count": 11,
   "metadata": {},
   "outputs": [
    {
     "data": {
      "image/png": "[encoded data removed]",
      "text/plain": [
       "<Figure size 432x288 with 1 Axes>"
      ]
     },
     "metadata": {
      "needs_background": "light"
     },
     "output_type": "display_data"
    }
   ],
   "source": [
    "positive_X = np.array([X[0,y>0], X[1,y>0]])\n",
    "negative_X = np.array([X[0,y<0], X[1,y<0]])\n",
    "plt.scatter(positive_X[0], positive_X[1], c=\"#0000FF\")\n",
    "plt.scatter(negative_X[0], negative_X[1], c=\"#FF0000\")\n",
    "plt.show()"
   ]
  },
  {
   "cell_type": "markdown",
   "metadata": {},
   "source": [
    "As you can see, blue points surrounds red points. This is obviously impossible to separate by any line."
   ]
  },
  {
   "cell_type": "markdown",
   "metadata": {},
   "source": [
    "## 2. Check whether (phi(X), y) is linearly separable\n",
    "\n",
    "It is enough to find function $f:\\phi(X) \\rightarrow y$ satisfying $f(x) > 0$ if and only if corresponding $y>0$.\n",
    "In fact, we will do somethig more : find $f(x) \\approx 1$ whenever $y>0$, and vice versa by logistic regression.\n",
    "Here I choose logistic regerssion because, it is differentiable, so much easier to describe.\n",
    "\n",
    "We use exactly same techniques used in previous problems.\n",
    "First, compute $\\phi(X)$ (denoted by x) and set theta randomly."
   ]
  },
  {
   "cell_type": "code",
   "execution_count": 12,
   "metadata": {},
   "outputs": [],
   "source": [
    "x = np.asarray((np.ones(N), X[0], X[0]**2, X[1], X[1]**2)).T\n",
    "np.random.seed(0)\n",
    "theta = np.random.randn(5)"
   ]
  },
  {
   "cell_type": "markdown",
   "metadata": {},
   "source": [
    "Define functions used in Problem 1."
   ]
  },
  {
   "cell_type": "code",
   "execution_count": 13,
   "metadata": {},
   "outputs": [],
   "source": [
    "def f(theta : np.ndarray, i : int) -> np.float64:\n",
    "    return np.log(1 + np.exp(-y[i]*np.dot(x[i],theta)))\n",
    "\n",
    "def F(theta : np.ndarray) -> np.float64:\n",
    "    return sum(f(theta,i) for i in range(N))/N\n",
    "\n",
    "def grad_f(theta : np.ndarray, i : int) -> np.ndarray:\n",
    "    denominator = 1+np.exp(y[i]*np.dot(x[i],theta))\n",
    "    numerator = -y[i]*x[i]\n",
    "    return numerator/denominator"
   ]
  },
  {
   "cell_type": "markdown",
   "metadata": {},
   "source": [
    "Apply SGD with learning rate = 0.03 and iteration = 30,000."
   ]
  },
  {
   "cell_type": "code",
   "execution_count": 14,
   "metadata": {},
   "outputs": [],
   "source": [
    "alpha = 0.03\n",
    "thetas = []\n",
    "values = []\n",
    "\n",
    "iteration_num = 30000\n",
    "for _ in range(iteration_num):\n",
    "    i = np.random.randint(N)\n",
    "    theta -= alpha*grad_f(theta, i)\n",
    "    thetas.append(theta.copy())\n",
    "    values.append(F(theta))"
   ]
  },
  {
   "cell_type": "code",
   "execution_count": 15,
   "metadata": {},
   "outputs": [
    {
     "data": {
      "image/png": "[encoded data removed]",
      "text/plain": [
       "<Figure size 432x288 with 2 Axes>"
      ]
     },
     "metadata": {
      "needs_background": "light"
     },
     "output_type": "display_data"
    }
   ],
   "source": [
    "x_axis = np.arange(iteration_num)\n",
    "y_distance = np.apply_along_axis(np.linalg.norm, axis=1,\n",
    "                                 arr=np.array(thetas)-thetas[-1])\n",
    "y_value = np.array(values)\n",
    "\n",
    "\n",
    "plt.cla()\n",
    "plt.subplot(2,1,1)\n",
    "plt.plot(x_axis, y_distance)\n",
    "plt.title(\"Convergence of theta\")\n",
    "\n",
    "plt.subplot(2,1,2)\n",
    "plt.plot(x_axis, y_value)\n",
    "plt.title(\"Logistic value\")\n",
    "\n",
    "plt.subplots_adjust(hspace=0.7)\n",
    "plt.show()"
   ]
  },
  {
   "cell_type": "markdown",
   "metadata": {},
   "source": [
    "We get familiar results."
   ]
  },
  {
   "cell_type": "markdown",
   "metadata": {},
   "source": [
    "## 3. Visualizing separability (Kernel method)\n",
    "\n",
    "Now, we draw a scatter graph visualizing previous separation. Since $\\phi(X)$ is 5-dimensional, instead of drawing $\\phi(X)$ directrly, we use scatter graph of $X$."
   ]
  },
  {
   "cell_type": "code",
   "execution_count": 17,
   "metadata": {},
   "outputs": [
    {
     "data": {
      "image/png": "[encoded data removed]",
      "text/plain": [
       "<Figure size 432x288 with 1 Axes>"
      ]
     },
     "metadata": {
      "needs_background": "light"
     },
     "output_type": "display_data"
    }
   ],
   "source": [
    "xx = np.linspace(-4,4,1024)\n",
    "yy = np.linspace(-4,4,1024)\n",
    "xx, yy = np.meshgrid(xx,yy)\n",
    "\n",
    "z = theta[0] + theta[1]*xx + theta[2]*(xx**2) + \\\n",
    "               theta[3]*yy + theta[4]*(yy**2)\n",
    "\n",
    "plt.scatter(positive_X[0], positive_X[1], c=\"#0000FF\")\n",
    "plt.scatter(negative_X[0], negative_X[1], c=\"#FF0000\")\n",
    "plt.contour(xx,yy,z,0)\n",
    "plt.show()"
   ]
  },
  {
   "cell_type": "markdown",
   "metadata": {},
   "source": [
    "Here, circle in center describes \"kernel\". As you can see, this separates blue and red dots well."
   ]
  }
 ],
 "metadata": {
  "kernelspec": {
   "display_name": "Python 3.9.7 ('base')",
   "language": "python",
   "name": "python3"
  },
  "language_info": {
   "codemirror_mode": {
    "name": "ipython",
    "version": 3
   },
   "file_extension": ".py",
   "mimetype": "text/x-python",
   "name": "python",
   "nbconvert_exporter": "python",
   "pygments_lexer": "ipython3",
   "version": "3.9.7"
  },
  "orig_nbformat": 4,
  "vscode": {
   "interpreter": {
    "hash": "40d3a090f54c6569ab1632332b64b2c03c39dcf918b08424e98f38b5ae0af88f"
   }
  }
 },
 "nbformat": 4,
 "nbformat_minor": 2
}
